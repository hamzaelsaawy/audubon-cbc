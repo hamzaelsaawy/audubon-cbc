{
 "cells": [
  {
   "cell_type": "markdown",
   "metadata": {},
   "source": [
    "# CBC Data Exploration\n",
    "### Purpose\n",
    "In this notebook I will create an example header and show how to structure the notebooks for easy readaility and documentation. \n",
    "\n",
    "In short, we are trying to follow the conventions of Cookie Cutter Data Science: https://drivendata.github.io/cookiecutter-data-science/ \n",
    "\n",
    "\n",
    "### Author: \n",
    "Hamza\n",
    "### Date: \n",
    "2020-06-04\n",
    "### Update Date: \n",
    "tbd\n",
    "\n",
    "### Inputs \n",
    "cbc_effort_weather_1900-2018.txt - Tab seperated file of Christmas Bird Count events going back to 1900. Each row represents a single count in a given year. Data Dictonary can be found here: http://www.audubon.org/sites/default/files/documents/cbc_report_field_definitions_2013.pdf\n",
    "\n",
    "### Output Artifcats\n",
    "Plots and properties of the data\n",
    "\n",
    "## Steps or Proceedures in the notebook \n",
    " - load data from the Audubon Society\n",
    " - make some pictures\n",
    " - look at the pictures\n",
    "\n",
    "\n",
    "## Where the Data will Be Saved \n",
    "n/a"
   ]
  },
  {
   "cell_type": "code",
   "execution_count": 1,
   "metadata": {},
   "outputs": [],
   "source": [
    "import numpy as np\n",
    "import pandas as pd\n",
    "import matplotlib.pyplot as plt\n",
    "import seaborn as sns"
   ]
  },
  {
   "cell_type": "code",
   "execution_count": 2,
   "metadata": {},
   "outputs": [],
   "source": [
    "PATH_TO_RAW_CBC_DATA = \"../data/Cloud_Data/cbc_effort_weather_1900-2018.txt\""
   ]
  },
  {
   "cell_type": "code",
   "execution_count": 3,
   "metadata": {},
   "outputs": [],
   "source": [
    "raw_data = pd.read_csv(PATH_TO_RAW_CBC_DATA, encoding = \"ISO-8859-1\", sep=\"\\t\")"
   ]
  },
  {
   "cell_type": "markdown",
   "metadata": {},
   "source": [
    "## typing"
   ]
  },
  {
   "cell_type": "code",
   "execution_count": 4,
   "metadata": {},
   "outputs": [
    {
     "data": {
      "text/plain": [
       "circle_name            object\n",
       "country_state          object\n",
       "lat                   float64\n",
       "lon                   float64\n",
       "count_year              int64\n",
       "count_date             object\n",
       "n_field_counters      float64\n",
       "n_feeder_counters     float64\n",
       "min_field_parties     float64\n",
       "max_field_parties     float64\n",
       "field_hours           float64\n",
       "feeder_hours          float64\n",
       "nocturnal_hours       float64\n",
       "field_distance        float64\n",
       "nocturnal_distance    float64\n",
       "distance_units         object\n",
       "min_temp              float64\n",
       "max_temp              float64\n",
       "temp_unit             float64\n",
       "min_wind              float64\n",
       "max_wind              float64\n",
       "wind_unit             float64\n",
       "min_snow              float64\n",
       "max_snow              float64\n",
       "snow_unit             float64\n",
       "am_cloud              float64\n",
       "pm_cloud              float64\n",
       "am_rain                object\n",
       "pm_rain                object\n",
       "am_snow                object\n",
       "pm_snow                object\n",
       "dtype: object"
      ]
     },
     "execution_count": 4,
     "metadata": {},
     "output_type": "execute_result"
    }
   ],
   "source": [
    "raw_data.dtypes"
   ]
  },
  {
   "cell_type": "markdown",
   "metadata": {},
   "source": [
    "pandas makes things a float if they having missing values or are fractional.\n",
    "\n",
    "lets explore:\n",
    " - n_field_counters\n",
    " - n_feeder_counters\n",
    " - min_field_parties\n",
    " - max_field_parties\n",
    " - temp_unit             \n",
    " - wind_unit \n",
    " - snow_unit\n",
    "\n",
    "aditionally, data dictionary says \"nearest degree, in degrees F\", so I expect `int` for:\n",
    " - min_temp\n",
    " - max_temp"
   ]
  },
  {
   "cell_type": "markdown",
   "metadata": {},
   "source": [
    "### lets see if the raw data string have fractional parts"
   ]
  },
  {
   "cell_type": "code",
   "execution_count": 110,
   "metadata": {},
   "outputs": [],
   "source": [
    "raw_counts = pd.read_csv(PATH_TO_RAW_CBC_DATA, sep=\"\\t\", dtype=str, encoding = \"ISO-8859-1\", na_filter=False, \n",
    "                         usecols=[\"n_field_counters\", \"n_feeder_counters\", \"min_field_parties\", \"max_field_parties\", \"min_temp\", \"max_temp\"])"
   ]
  },
  {
   "cell_type": "code",
   "execution_count": 101,
   "metadata": {},
   "outputs": [
    {
     "data": {
      "text/plain": [
       "0"
      ]
     },
     "execution_count": 101,
     "metadata": {},
     "output_type": "execute_result"
    }
   ],
   "source": [
    "raw_counts.min_field_parties.str.contains(\".\", regex=False).sum()"
   ]
  },
  {
   "cell_type": "code",
   "execution_count": 91,
   "metadata": {},
   "outputs": [
    {
     "data": {
      "text/plain": [
       "0"
      ]
     },
     "execution_count": 91,
     "metadata": {},
     "output_type": "execute_result"
    }
   ],
   "source": [
    "raw_counts.n_feeder_counters.str.contains(\".\", regex=False).sum()"
   ]
  },
  {
   "cell_type": "code",
   "execution_count": 104,
   "metadata": {},
   "outputs": [
    {
     "data": {
      "text/plain": [
       "0"
      ]
     },
     "execution_count": 104,
     "metadata": {},
     "output_type": "execute_result"
    }
   ],
   "source": [
    "raw_counts.max_field_parties.str.contains(\".\", regex=False).sum()"
   ]
  },
  {
   "cell_type": "code",
   "execution_count": 92,
   "metadata": {},
   "outputs": [
    {
     "data": {
      "text/plain": [
       "47"
      ]
     },
     "execution_count": 92,
     "metadata": {},
     "output_type": "execute_result"
    }
   ],
   "source": [
    "raw_counts.n_field_counters.str.contains(\".\", regex=False).sum()"
   ]
  },
  {
   "cell_type": "markdown",
   "metadata": {},
   "source": [
    "fractional people.\n",
    "children?"
   ]
  },
  {
   "cell_type": "code",
   "execution_count": 79,
   "metadata": {},
   "outputs": [
    {
     "data": {
      "text/plain": [
       "30              1.5\n",
       "78              1.5\n",
       "119             1.5\n",
       "141             1.5\n",
       "223            1.25\n",
       "321     1.333333333\n",
       "329             1.5\n",
       "366     1.333333333\n",
       "379             2.5\n",
       "415             1.5\n",
       "502             3.5\n",
       "519     1.666666667\n",
       "536             1.5\n",
       "564             2.5\n",
       "692             1.5\n",
       "713             1.5\n",
       "914             1.5\n",
       "915            1.25\n",
       "1008            1.5\n",
       "1033            1.5\n",
       "1120            1.5\n",
       "1212            1.5\n",
       "1238            1.5\n",
       "1269            1.5\n",
       "1412            1.5\n",
       "1520           1.25\n",
       "1696            2.5\n",
       "1731            2.5\n",
       "1983            1.5\n",
       "2713            2.5\n",
       "2838            4.5\n",
       "2889            1.5\n",
       "3083            2.5\n",
       "3171           10.5\n",
       "3205            1.5\n",
       "3322            2.5\n",
       "3366           14.5\n",
       "3584            2.5\n",
       "3844            2.5\n",
       "4077            2.5\n",
       "4164            1.5\n",
       "4202            1.5\n",
       "4276            3.5\n",
       "4360            4.5\n",
       "4391            1.5\n",
       "4653            4.5\n",
       "4698            2.5\n",
       "Name: n_field_counters, dtype: object"
      ]
     },
     "execution_count": 79,
     "metadata": {},
     "output_type": "execute_result"
    }
   ],
   "source": [
    "raw_counts.n_field_counters[raw_counts.n_field_counters.str.contains(\".\", regex=False)]"
   ]
  },
  {
   "cell_type": "markdown",
   "metadata": {},
   "source": [
    "by location"
   ]
  },
  {
   "cell_type": "code",
   "execution_count": 93,
   "metadata": {},
   "outputs": [
    {
     "data": {
      "text/plain": [
       "30                   Greater Boston\n",
       "78                        Princeton\n",
       "119                       Cambridge\n",
       "141                      Moorestown\n",
       "223     New York City: Central Park\n",
       "321     New York City: Central Park\n",
       "329                    Philadelphia\n",
       "366                         Chicago\n",
       "379                         Belmont\n",
       "415             Minneapolis (north)\n",
       "502                        Richmond\n",
       "519                         Ipswich\n",
       "536                     Kansas City\n",
       "564                           Cadiz\n",
       "692                      Morristown\n",
       "713         Prospect Park, Brooklyn\n",
       "914                        Hartford\n",
       "915                        Hartford\n",
       "1008                     Morristown\n",
       "1033        Prospect Park, Brooklyn\n",
       "1120                      New Haven\n",
       "1212                     Morristown\n",
       "1238                      Rochester\n",
       "1269                        Reading\n",
       "1412                 L.I.: Brooklyn\n",
       "1520                       Hartford\n",
       "1696                     Washington\n",
       "1731                 Greater Boston\n",
       "1983                   West Chester\n",
       "2713               L.I.: Long Beach\n",
       "2838                        Ipswich\n",
       "2889               L.I.: Long Beach\n",
       "3083    New York City: Central Park\n",
       "3171                    Los Angeles\n",
       "3205                   Indianapolis\n",
       "3322                        Reading\n",
       "3366                    Los Angeles\n",
       "3584                   Indianapolis\n",
       "3844                      Rochester\n",
       "4077                        Reading\n",
       "4164                       Waukegan\n",
       "4202               St. Paul (south)\n",
       "4276                        Reading\n",
       "4360                   Indianapolis\n",
       "4391            Minneapolis (north)\n",
       "4653                      Rochester\n",
       "4698                        Reading\n",
       "Name: circle_name, dtype: object"
      ]
     },
     "execution_count": 93,
     "metadata": {},
     "output_type": "execute_result"
    }
   ],
   "source": [
    "raw_data.circle_name[raw_counts.n_field_counters.str.contains(\".\", regex=False)]"
   ]
  },
  {
   "cell_type": "markdown",
   "metadata": {},
   "source": [
    "by time"
   ]
  },
  {
   "cell_type": "code",
   "execution_count": 40,
   "metadata": {},
   "outputs": [
    {
     "data": {
      "text/plain": [
       "[<matplotlib.lines.Line2D at 0x7febfc6b5b10>]"
      ]
     },
     "execution_count": 40,
     "metadata": {},
     "output_type": "execute_result"
    },
    {
     "data": {
      "image/png": "[encoded data removed]",
      "text/plain": [
       "<Figure size 432x288 with 1 Axes>"
      ]
     },
     "metadata": {
      "needs_background": "light"
     },
     "output_type": "display_data"
    }
   ],
   "source": [
    "plt.plot( np.isnan(raw_data.n_field_counters), \".\")"
   ]
  },
  {
   "cell_type": "markdown",
   "metadata": {},
   "source": [
    "#### less important, but lets look at temp\n",
    "looks like people have been violating audubon specifications, regardless of unit"
   ]
  },
  {
   "cell_type": "code",
   "execution_count": 112,
   "metadata": {},
   "outputs": [
    {
     "data": {
      "text/plain": [
       "328"
      ]
     },
     "execution_count": 112,
     "metadata": {},
     "output_type": "execute_result"
    }
   ],
   "source": [
    "raw_counts.min_temp.str.contains(\".\", regex=False).sum()"
   ]
  },
  {
   "cell_type": "code",
   "execution_count": 120,
   "metadata": {},
   "outputs": [
    {
     "data": {
      "text/html": [
       "<div>\n",
       "<style scoped>\n",
       "    .dataframe tbody tr th:only-of-type {\n",
       "        vertical-align: middle;\n",
       "    }\n",
       "\n",
       "    .dataframe tbody tr th {\n",
       "        vertical-align: top;\n",
       "    }\n",
       "\n",
       "    .dataframe thead th {\n",
       "        text-align: right;\n",
       "    }\n",
       "</style>\n",
       "<table border=\"1\" class=\"dataframe\">\n",
       "  <thead>\n",
       "    <tr style=\"text-align: right;\">\n",
       "      <th></th>\n",
       "      <th>count_year</th>\n",
       "      <th>min_temp</th>\n",
       "      <th>temp_unit</th>\n",
       "    </tr>\n",
       "  </thead>\n",
       "  <tbody>\n",
       "    <tr>\n",
       "      <th>60908</th>\n",
       "      <td>1997</td>\n",
       "      <td>27.5</td>\n",
       "      <td>2.0</td>\n",
       "    </tr>\n",
       "    <tr>\n",
       "      <th>89673</th>\n",
       "      <td>2011</td>\n",
       "      <td>8.5</td>\n",
       "      <td>2.0</td>\n",
       "    </tr>\n",
       "    <tr>\n",
       "      <th>89736</th>\n",
       "      <td>2012</td>\n",
       "      <td>-6.4</td>\n",
       "      <td>1.0</td>\n",
       "    </tr>\n",
       "    <tr>\n",
       "      <th>89753</th>\n",
       "      <td>2012</td>\n",
       "      <td>1.6</td>\n",
       "      <td>1.0</td>\n",
       "    </tr>\n",
       "    <tr>\n",
       "      <th>89767</th>\n",
       "      <td>2012</td>\n",
       "      <td>-2.5</td>\n",
       "      <td>1.0</td>\n",
       "    </tr>\n",
       "    <tr>\n",
       "      <th>...</th>\n",
       "      <td>...</td>\n",
       "      <td>...</td>\n",
       "      <td>...</td>\n",
       "    </tr>\n",
       "    <tr>\n",
       "      <th>106726</th>\n",
       "      <td>2018</td>\n",
       "      <td>-9.5</td>\n",
       "      <td>2.0</td>\n",
       "    </tr>\n",
       "    <tr>\n",
       "      <th>106838</th>\n",
       "      <td>2018</td>\n",
       "      <td>19.8</td>\n",
       "      <td>2.0</td>\n",
       "    </tr>\n",
       "    <tr>\n",
       "      <th>106840</th>\n",
       "      <td>2018</td>\n",
       "      <td>30.7</td>\n",
       "      <td>2.0</td>\n",
       "    </tr>\n",
       "    <tr>\n",
       "      <th>106879</th>\n",
       "      <td>2018</td>\n",
       "      <td>11.4</td>\n",
       "      <td>2.0</td>\n",
       "    </tr>\n",
       "    <tr>\n",
       "      <th>106905</th>\n",
       "      <td>2018</td>\n",
       "      <td>-8.3</td>\n",
       "      <td>1.0</td>\n",
       "    </tr>\n",
       "  </tbody>\n",
       "</table>\n",
       "<p>328 rows × 3 columns</p>\n",
       "</div>"
      ],
      "text/plain": [
       "        count_year  min_temp  temp_unit\n",
       "60908         1997      27.5        2.0\n",
       "89673         2011       8.5        2.0\n",
       "89736         2012      -6.4        1.0\n",
       "89753         2012       1.6        1.0\n",
       "89767         2012      -2.5        1.0\n",
       "...            ...       ...        ...\n",
       "106726        2018      -9.5        2.0\n",
       "106838        2018      19.8        2.0\n",
       "106840        2018      30.7        2.0\n",
       "106879        2018      11.4        2.0\n",
       "106905        2018      -8.3        1.0\n",
       "\n",
       "[328 rows x 3 columns]"
      ]
     },
     "execution_count": 120,
     "metadata": {},
     "output_type": "execute_result"
    }
   ],
   "source": [
    "raw_data.loc[raw_counts.min_temp.str.contains(\".\", regex=False), (\"count_year\", \"min_temp\", \"temp_unit\")]"
   ]
  },
  {
   "cell_type": "code",
   "execution_count": 113,
   "metadata": {},
   "outputs": [
    {
     "data": {
      "text/plain": [
       "329"
      ]
     },
     "execution_count": 113,
     "metadata": {},
     "output_type": "execute_result"
    }
   ],
   "source": [
    "raw_counts.max_temp.str.contains(\".\", regex=False).sum()"
   ]
  },
  {
   "cell_type": "code",
   "execution_count": 121,
   "metadata": {},
   "outputs": [
    {
     "data": {
      "text/html": [
       "<div>\n",
       "<style scoped>\n",
       "    .dataframe tbody tr th:only-of-type {\n",
       "        vertical-align: middle;\n",
       "    }\n",
       "\n",
       "    .dataframe tbody tr th {\n",
       "        vertical-align: top;\n",
       "    }\n",
       "\n",
       "    .dataframe thead th {\n",
       "        text-align: right;\n",
       "    }\n",
       "</style>\n",
       "<table border=\"1\" class=\"dataframe\">\n",
       "  <thead>\n",
       "    <tr style=\"text-align: right;\">\n",
       "      <th></th>\n",
       "      <th>count_year</th>\n",
       "      <th>max_temp</th>\n",
       "      <th>temp_unit</th>\n",
       "    </tr>\n",
       "  </thead>\n",
       "  <tbody>\n",
       "    <tr>\n",
       "      <th>68356</th>\n",
       "      <td>2001</td>\n",
       "      <td>35.5</td>\n",
       "      <td>2.0</td>\n",
       "    </tr>\n",
       "    <tr>\n",
       "      <th>70332</th>\n",
       "      <td>2002</td>\n",
       "      <td>41.5</td>\n",
       "      <td>2.0</td>\n",
       "    </tr>\n",
       "    <tr>\n",
       "      <th>81177</th>\n",
       "      <td>2008</td>\n",
       "      <td>2.5</td>\n",
       "      <td>1.0</td>\n",
       "    </tr>\n",
       "    <tr>\n",
       "      <th>89736</th>\n",
       "      <td>2012</td>\n",
       "      <td>-3.8</td>\n",
       "      <td>1.0</td>\n",
       "    </tr>\n",
       "    <tr>\n",
       "      <th>89753</th>\n",
       "      <td>2012</td>\n",
       "      <td>2.8</td>\n",
       "      <td>1.0</td>\n",
       "    </tr>\n",
       "    <tr>\n",
       "      <th>...</th>\n",
       "      <td>...</td>\n",
       "      <td>...</td>\n",
       "      <td>...</td>\n",
       "    </tr>\n",
       "    <tr>\n",
       "      <th>106647</th>\n",
       "      <td>2018</td>\n",
       "      <td>29.9</td>\n",
       "      <td>2.0</td>\n",
       "    </tr>\n",
       "    <tr>\n",
       "      <th>106726</th>\n",
       "      <td>2018</td>\n",
       "      <td>9.3</td>\n",
       "      <td>2.0</td>\n",
       "    </tr>\n",
       "    <tr>\n",
       "      <th>106838</th>\n",
       "      <td>2018</td>\n",
       "      <td>26.1</td>\n",
       "      <td>2.0</td>\n",
       "    </tr>\n",
       "    <tr>\n",
       "      <th>106879</th>\n",
       "      <td>2018</td>\n",
       "      <td>26.6</td>\n",
       "      <td>2.0</td>\n",
       "    </tr>\n",
       "    <tr>\n",
       "      <th>106905</th>\n",
       "      <td>2018</td>\n",
       "      <td>0.6</td>\n",
       "      <td>1.0</td>\n",
       "    </tr>\n",
       "  </tbody>\n",
       "</table>\n",
       "<p>329 rows × 3 columns</p>\n",
       "</div>"
      ],
      "text/plain": [
       "        count_year  max_temp  temp_unit\n",
       "68356         2001      35.5        2.0\n",
       "70332         2002      41.5        2.0\n",
       "81177         2008       2.5        1.0\n",
       "89736         2012      -3.8        1.0\n",
       "89753         2012       2.8        1.0\n",
       "...            ...       ...        ...\n",
       "106647        2018      29.9        2.0\n",
       "106726        2018       9.3        2.0\n",
       "106838        2018      26.1        2.0\n",
       "106879        2018      26.6        2.0\n",
       "106905        2018       0.6        1.0\n",
       "\n",
       "[329 rows x 3 columns]"
      ]
     },
     "execution_count": 121,
     "metadata": {},
     "output_type": "execute_result"
    }
   ],
   "source": [
    "raw_data.loc[raw_counts.max_temp.str.contains(\".\", regex=False), (\"count_year\", \"max_temp\", \"temp_unit\")]"
   ]
  },
  {
   "cell_type": "markdown",
   "metadata": {},
   "source": [
    "are they coincident?"
   ]
  },
  {
   "cell_type": "code",
   "execution_count": 125,
   "metadata": {},
   "outputs": [
    {
     "data": {
      "text/plain": [
       "241"
      ]
     },
     "execution_count": 125,
     "metadata": {},
     "output_type": "execute_result"
    }
   ],
   "source": [
    "sum(raw_counts.max_temp.str.contains(\".\", regex=False) & raw_counts.min_temp.str.contains(\".\", regex=False))"
   ]
  },
  {
   "cell_type": "markdown",
   "metadata": {},
   "source": [
    "### why are `*_cloud` `float`s but not `*_rain` and `*_snow`?"
   ]
  },
  {
   "cell_type": "markdown",
   "metadata": {},
   "source": [
    "## the NaNs"
   ]
  },
  {
   "cell_type": "markdown",
   "metadata": {},
   "source": [
    "### n_feeder_counters"
   ]
  },
  {
   "cell_type": "code",
   "execution_count": 100,
   "metadata": {},
   "outputs": [
    {
     "data": {
      "text/plain": [
       "52.699454778404366"
      ]
     },
     "execution_count": 100,
     "metadata": {},
     "output_type": "execute_result"
    }
   ],
   "source": [
    "sum(np.isnan(raw_data.n_feeder_counters)) / len(raw_data) * 100"
   ]
  },
  {
   "cell_type": "code",
   "execution_count": 96,
   "metadata": {},
   "outputs": [
    {
     "data": {
      "text/plain": [
       "[<matplotlib.lines.Line2D at 0x7febfc0b3f90>]"
      ]
     },
     "execution_count": 96,
     "metadata": {},
     "output_type": "execute_result"
    },
    {
     "data": {
      "image/png": "[encoded data removed]",
      "text/plain": [
       "<Figure size 432x288 with 1 Axes>"
      ]
     },
     "metadata": {
      "needs_background": "light"
     },
     "output_type": "display_data"
    }
   ],
   "source": [
    "plt.plot( np.isnan(raw_data.n_feeder_counters), \".\")"
   ]
  },
  {
   "cell_type": "markdown",
   "metadata": {},
   "source": [
    "### min_field_parties"
   ]
  },
  {
   "cell_type": "code",
   "execution_count": 102,
   "metadata": {},
   "outputs": [
    {
     "data": {
      "text/plain": [
       "47.429602820563176"
      ]
     },
     "execution_count": 102,
     "metadata": {},
     "output_type": "execute_result"
    }
   ],
   "source": [
    "sum(np.isnan(raw_data.min_field_parties)) / len(raw_data) * 100"
   ]
  },
  {
   "cell_type": "code",
   "execution_count": 103,
   "metadata": {},
   "outputs": [
    {
     "data": {
      "text/plain": [
       "[<matplotlib.lines.Line2D at 0x7febfc33be50>]"
      ]
     },
     "execution_count": 103,
     "metadata": {},
     "output_type": "execute_result"
    },
    {
     "data": {
      "image/png": "[encoded data removed]",
      "text/plain": [
       "<Figure size 432x288 with 1 Axes>"
      ]
     },
     "metadata": {
      "needs_background": "light"
     },
     "output_type": "display_data"
    }
   ],
   "source": [
    "plt.plot( np.isnan(raw_data.min_field_parties), \".\")"
   ]
  },
  {
   "cell_type": "markdown",
   "metadata": {},
   "source": [
    "### max_field_parties"
   ]
  },
  {
   "cell_type": "code",
   "execution_count": 105,
   "metadata": {},
   "outputs": [
    {
     "data": {
      "text/plain": [
       "46.603821227169426"
      ]
     },
     "execution_count": 105,
     "metadata": {},
     "output_type": "execute_result"
    }
   ],
   "source": [
    "sum(np.isnan(raw_data.max_field_parties)) / len(raw_data) * 100"
   ]
  },
  {
   "cell_type": "code",
   "execution_count": 106,
   "metadata": {},
   "outputs": [
    {
     "data": {
      "text/plain": [
       "[<matplotlib.lines.Line2D at 0x7febfbe13c50>]"
      ]
     },
     "execution_count": 106,
     "metadata": {},
     "output_type": "execute_result"
    },
    {
     "data": {
      "image/png": "[encoded data removed]",
      "text/plain": [
       "<Figure size 432x288 with 1 Axes>"
      ]
     },
     "metadata": {
      "needs_background": "light"
     },
     "output_type": "display_data"
    }
   ],
   "source": [
    "plt.plot( np.isnan(raw_data.max_field_parties), \".\")"
   ]
  },
  {
   "cell_type": "code",
   "execution_count": null,
   "metadata": {},
   "outputs": [],
   "source": []
  },
  {
   "cell_type": "markdown",
   "metadata": {},
   "source": [
    "celcius wasnt discoverd until the 1990's, apparently "
   ]
  },
  {
   "cell_type": "code",
   "execution_count": 13,
   "metadata": {},
   "outputs": [
    {
     "data": {
      "text/plain": [
       "[<matplotlib.lines.Line2D at 0x7febff73f990>]"
      ]
     },
     "execution_count": 13,
     "metadata": {},
     "output_type": "execute_result"
    },
    {
     "data": {
      "image/png": "[encoded data removed]",
      "text/plain": [
       "<Figure size 432x288 with 1 Axes>"
      ]
     },
     "metadata": {
      "needs_background": "light"
     },
     "output_type": "display_data"
    }
   ],
   "source": [
    "plt.plot(raw_data.count_year, raw_data.temp_unit, \".\" )"
   ]
  },
  {
   "cell_type": "code",
   "execution_count": 25,
   "metadata": {},
   "outputs": [
    {
     "data": {
      "text/plain": [
       "0.4666647962666816"
      ]
     },
     "execution_count": 25,
     "metadata": {},
     "output_type": "execute_result"
    }
   ],
   "source": [
    "np.sum( np.isnan(raw_data.temp_unit)) / len(raw_data)"
   ]
  },
  {
   "cell_type": "code",
   "execution_count": 28,
   "metadata": {},
   "outputs": [
    {
     "data": {
      "text/plain": [
       "0.062144039502847685"
      ]
     },
     "execution_count": 28,
     "metadata": {},
     "output_type": "execute_result"
    }
   ],
   "source": [
    "np.sum( raw_data.temp_unit == 1) / len(raw_data)"
   ]
  },
  {
   "cell_type": "code",
   "execution_count": 16,
   "metadata": {},
   "outputs": [
    {
     "data": {
      "text/plain": [
       "0"
      ]
     },
     "execution_count": 16,
     "metadata": {},
     "output_type": "execute_result"
    }
   ],
   "source": [
    "sum( raw_data.temp_unit == np.nan )"
   ]
  },
  {
   "cell_type": "code",
   "execution_count": null,
   "metadata": {},
   "outputs": [],
   "source": []
  },
  {
   "cell_type": "code",
   "execution_count": null,
   "metadata": {},
   "outputs": [],
   "source": []
  },
  {
   "cell_type": "code",
   "execution_count": 34,
   "metadata": {},
   "outputs": [
    {
     "ename": "TypeError",
     "evalue": "'<' not supported between instances of 'str' and 'float'",
     "output_type": "error",
     "traceback": [
      "\u001b[0;31m---------------------------------------------------------------------------\u001b[0m",
      "\u001b[0;31mTypeError\u001b[0m                                 Traceback (most recent call last)",
      "\u001b[0;32m<ipython-input-34-aae88624500d>\u001b[0m in \u001b[0;36m<module>\u001b[0;34m\u001b[0m\n\u001b[0;32m----> 1\u001b[0;31m \u001b[0mnp\u001b[0m\u001b[0;34m.\u001b[0m\u001b[0munique\u001b[0m\u001b[0;34m(\u001b[0m \u001b[0mraw_data\u001b[0m\u001b[0;34m.\u001b[0m\u001b[0mam_rain\u001b[0m \u001b[0;34m)\u001b[0m\u001b[0;34m\u001b[0m\u001b[0;34m\u001b[0m\u001b[0m\n\u001b[0m",
      "\u001b[0;32m<__array_function__ internals>\u001b[0m in \u001b[0;36munique\u001b[0;34m(*args, **kwargs)\u001b[0m\n",
      "\u001b[0;32m~/anaconda3/envs/audubon/lib/python3.7/site-packages/numpy/lib/arraysetops.py\u001b[0m in \u001b[0;36munique\u001b[0;34m(ar, return_index, return_inverse, return_counts, axis)\u001b[0m\n\u001b[1;32m    261\u001b[0m     \u001b[0mar\u001b[0m \u001b[0;34m=\u001b[0m \u001b[0mnp\u001b[0m\u001b[0;34m.\u001b[0m\u001b[0masanyarray\u001b[0m\u001b[0;34m(\u001b[0m\u001b[0mar\u001b[0m\u001b[0;34m)\u001b[0m\u001b[0;34m\u001b[0m\u001b[0;34m\u001b[0m\u001b[0m\n\u001b[1;32m    262\u001b[0m     \u001b[0;32mif\u001b[0m \u001b[0maxis\u001b[0m \u001b[0;32mis\u001b[0m \u001b[0;32mNone\u001b[0m\u001b[0;34m:\u001b[0m\u001b[0;34m\u001b[0m\u001b[0;34m\u001b[0m\u001b[0m\n\u001b[0;32m--> 263\u001b[0;31m         \u001b[0mret\u001b[0m \u001b[0;34m=\u001b[0m \u001b[0m_unique1d\u001b[0m\u001b[0;34m(\u001b[0m\u001b[0mar\u001b[0m\u001b[0;34m,\u001b[0m \u001b[0mreturn_index\u001b[0m\u001b[0;34m,\u001b[0m \u001b[0mreturn_inverse\u001b[0m\u001b[0;34m,\u001b[0m \u001b[0mreturn_counts\u001b[0m\u001b[0;34m)\u001b[0m\u001b[0;34m\u001b[0m\u001b[0;34m\u001b[0m\u001b[0m\n\u001b[0m\u001b[1;32m    264\u001b[0m         \u001b[0;32mreturn\u001b[0m \u001b[0m_unpack_tuple\u001b[0m\u001b[0;34m(\u001b[0m\u001b[0mret\u001b[0m\u001b[0;34m)\u001b[0m\u001b[0;34m\u001b[0m\u001b[0;34m\u001b[0m\u001b[0m\n\u001b[1;32m    265\u001b[0m \u001b[0;34m\u001b[0m\u001b[0m\n",
      "\u001b[0;32m~/anaconda3/envs/audubon/lib/python3.7/site-packages/numpy/lib/arraysetops.py\u001b[0m in \u001b[0;36m_unique1d\u001b[0;34m(ar, return_index, return_inverse, return_counts)\u001b[0m\n\u001b[1;32m    309\u001b[0m         \u001b[0maux\u001b[0m \u001b[0;34m=\u001b[0m \u001b[0mar\u001b[0m\u001b[0;34m[\u001b[0m\u001b[0mperm\u001b[0m\u001b[0;34m]\u001b[0m\u001b[0;34m\u001b[0m\u001b[0;34m\u001b[0m\u001b[0m\n\u001b[1;32m    310\u001b[0m     \u001b[0;32melse\u001b[0m\u001b[0;34m:\u001b[0m\u001b[0;34m\u001b[0m\u001b[0;34m\u001b[0m\u001b[0m\n\u001b[0;32m--> 311\u001b[0;31m         \u001b[0mar\u001b[0m\u001b[0;34m.\u001b[0m\u001b[0msort\u001b[0m\u001b[0;34m(\u001b[0m\u001b[0;34m)\u001b[0m\u001b[0;34m\u001b[0m\u001b[0;34m\u001b[0m\u001b[0m\n\u001b[0m\u001b[1;32m    312\u001b[0m         \u001b[0maux\u001b[0m \u001b[0;34m=\u001b[0m \u001b[0mar\u001b[0m\u001b[0;34m\u001b[0m\u001b[0;34m\u001b[0m\u001b[0m\n\u001b[1;32m    313\u001b[0m     \u001b[0mmask\u001b[0m \u001b[0;34m=\u001b[0m \u001b[0mnp\u001b[0m\u001b[0;34m.\u001b[0m\u001b[0mempty\u001b[0m\u001b[0;34m(\u001b[0m\u001b[0maux\u001b[0m\u001b[0;34m.\u001b[0m\u001b[0mshape\u001b[0m\u001b[0;34m,\u001b[0m \u001b[0mdtype\u001b[0m\u001b[0;34m=\u001b[0m\u001b[0mnp\u001b[0m\u001b[0;34m.\u001b[0m\u001b[0mbool_\u001b[0m\u001b[0;34m)\u001b[0m\u001b[0;34m\u001b[0m\u001b[0;34m\u001b[0m\u001b[0m\n",
      "\u001b[0;31mTypeError\u001b[0m: '<' not supported between instances of 'str' and 'float'"
     ]
    }
   ],
   "source": [
    "np.unique( raw_data.am_rain )"
   ]
  },
  {
   "cell_type": "code",
   "execution_count": null,
   "metadata": {},
   "outputs": [],
   "source": []
  },
  {
   "cell_type": "code",
   "execution_count": null,
   "metadata": {},
   "outputs": [],
   "source": []
  },
  {
   "cell_type": "code",
   "execution_count": null,
   "metadata": {},
   "outputs": [],
   "source": []
  }
 ],
 "metadata": {
  "kernelspec": {
   "display_name": "audubon",
   "language": "python",
   "name": "audubon"
  },
  "language_info": {
   "codemirror_mode": {
    "name": "ipython",
    "version": 3
   },
   "file_extension": ".py",
   "mimetype": "text/x-python",
   "name": "python",
   "nbconvert_exporter": "python",
   "pygments_lexer": "ipython3",
   "version": "3.7.7"
  }
 },
 "nbformat": 4,
 "nbformat_minor": 4
}
